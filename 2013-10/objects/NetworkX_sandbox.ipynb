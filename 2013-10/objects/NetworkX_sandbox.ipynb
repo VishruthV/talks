{
 "metadata": {
  "name": ""
 },
 "nbformat": 3,
 "nbformat_minor": 0,
 "worksheets": [
  {
   "cells": [
    {
     "cell_type": "code",
     "collapsed": false,
     "input": [
      "import sys\n",
      "import networkx as nx\n",
      "\n",
      "g = nx.grid_2d_graph(4,4)\n"
     ],
     "language": "python",
     "metadata": {},
     "outputs": [],
     "prompt_number": 53
    },
    {
     "cell_type": "code",
     "collapsed": false,
     "input": [
      "list(g.nodes_iter())"
     ],
     "language": "python",
     "metadata": {},
     "outputs": [
      {
       "metadata": {},
       "output_type": "pyout",
       "prompt_number": 39,
       "text": [
        "[(0, 1),\n",
        " (1, 2),\n",
        " (3, 2),\n",
        " (0, 0),\n",
        " (3, 3),\n",
        " (3, 0),\n",
        " (3, 1),\n",
        " (2, 1),\n",
        " (0, 2),\n",
        " (2, 0),\n",
        " (1, 3),\n",
        " (2, 3),\n",
        " (2, 2),\n",
        " (1, 0),\n",
        " (0, 3),\n",
        " (1, 1)]"
       ]
      }
     ],
     "prompt_number": 39
    },
    {
     "cell_type": "code",
     "collapsed": false,
     "input": [
      "g2[0,1]"
     ],
     "language": "python",
     "metadata": {},
     "outputs": [
      {
       "ename": "KeyError",
       "evalue": "(0, 1)",
       "output_type": "pyerr",
       "traceback": [
        "\u001b[1;31m---------------------------------------------------------------------------\u001b[0m\n\u001b[1;31mKeyError\u001b[0m                                  Traceback (most recent call last)",
        "\u001b[1;32m<ipython-input-40-3679f8760608>\u001b[0m in \u001b[0;36m<module>\u001b[1;34m()\u001b[0m\n\u001b[1;32m----> 1\u001b[1;33m \u001b[0mg2\u001b[0m\u001b[1;33m[\u001b[0m\u001b[1;36m0\u001b[0m\u001b[1;33m,\u001b[0m\u001b[1;36m1\u001b[0m\u001b[1;33m]\u001b[0m\u001b[1;33m\u001b[0m\u001b[0m\n\u001b[0m",
        "\u001b[1;32mC:\\Users\\dan\\15puzzle\\lib\\site-packages\\networkx\\classes\\graph.pyc\u001b[0m in \u001b[0;36m__getitem__\u001b[1;34m(self, n)\u001b[0m\n\u001b[0;32m    317\u001b[0m         \u001b[1;33m{\u001b[0m\u001b[1;36m1\u001b[0m\u001b[1;33m:\u001b[0m \u001b[1;33m{\u001b[0m\u001b[1;33m}\u001b[0m\u001b[1;33m}\u001b[0m\u001b[1;33m\u001b[0m\u001b[0m\n\u001b[0;32m    318\u001b[0m         \"\"\"\n\u001b[1;32m--> 319\u001b[1;33m         \u001b[1;32mreturn\u001b[0m \u001b[0mself\u001b[0m\u001b[1;33m.\u001b[0m\u001b[0madj\u001b[0m\u001b[1;33m[\u001b[0m\u001b[0mn\u001b[0m\u001b[1;33m]\u001b[0m\u001b[1;33m\u001b[0m\u001b[0m\n\u001b[0m\u001b[0;32m    320\u001b[0m \u001b[1;33m\u001b[0m\u001b[0m\n\u001b[0;32m    321\u001b[0m \u001b[1;33m\u001b[0m\u001b[0m\n",
        "\u001b[1;31mKeyError\u001b[0m: (0, 1)"
       ]
      }
     ],
     "prompt_number": 40
    },
    {
     "cell_type": "code",
     "collapsed": false,
     "input": [
      "nx.write_adjlist(g, sys.stdout)"
     ],
     "language": "python",
     "metadata": {},
     "outputs": [
      {
       "output_type": "stream",
       "stream": "stdout",
       "text": [
        "#-c -f c:\\Users\\dan\\.ipython\\profile_default\\security\\kernel-9184da4c-3f5b-44ca-8111-68e5548daeb9.json --IPKernelApp.parent_appname='ipython-notebook' --profile-dir c:\\Users\\dan\\.ipython\\profile_default --interrupt=884 --parent=888\n",
        "# GMT Thu Oct 10 15:04:05 2013\n",
        "# grid_2d_graph\n",
        "(0, 1) (0, 0) (1, 1) (0, 2)\n",
        "(1, 2) (1, 1) (1, 3) (0, 2) (2, 2)\n",
        "(3, 2) (3, 1) (3, 3) (2, 2)\n",
        "(0, 0) (1, 0)\n",
        "(3, 3) (2, 3)\n",
        "(3, 0) (2, 0) (3, 1)\n",
        "(3, 1) (2, 1)\n",
        "(2, 1) (2, 0) (1, 1) (2, 2)\n",
        "(0, 2) (0, 3)\n",
        "(2, 0) (1, 0)\n",
        "(1, 3) (0, 3) (2, 3)\n",
        "(2, 3) (2, 2)\n",
        "(2, 2)\n",
        "(1, 0) (1, 1)\n",
        "(0, 3)\n",
        "(1, 1)\n"
       ]
      }
     ],
     "prompt_number": 5
    },
    {
     "cell_type": "code",
     "collapsed": false,
     "input": [
      "g.adj[0,0]"
     ],
     "language": "python",
     "metadata": {},
     "outputs": [
      {
       "metadata": {},
       "output_type": "pyout",
       "prompt_number": 7,
       "text": [
        "{(0, 1): {}, (1, 0): {}}"
       ]
      }
     ],
     "prompt_number": 7
    },
    {
     "cell_type": "code",
     "collapsed": false,
     "input": [
      "g.edges()"
     ],
     "language": "python",
     "metadata": {},
     "outputs": [
      {
       "metadata": {},
       "output_type": "pyout",
       "prompt_number": 11,
       "text": [
        "[((0, 1), (0, 0)),\n",
        " ((0, 1), (1, 1)),\n",
        " ((0, 1), (0, 2)),\n",
        " ((1, 2), (1, 1)),\n",
        " ((1, 2), (1, 3)),\n",
        " ((1, 2), (0, 2)),\n",
        " ((1, 2), (2, 2)),\n",
        " ((3, 2), (3, 1)),\n",
        " ((3, 2), (3, 3)),\n",
        " ((3, 2), (2, 2)),\n",
        " ((0, 0), (1, 0)),\n",
        " ((3, 3), (2, 3)),\n",
        " ((3, 0), (2, 0)),\n",
        " ((3, 0), (3, 1)),\n",
        " ((3, 1), (2, 1)),\n",
        " ((2, 1), (2, 0)),\n",
        " ((2, 1), (1, 1)),\n",
        " ((2, 1), (2, 2)),\n",
        " ((0, 2), (0, 3)),\n",
        " ((2, 0), (1, 0)),\n",
        " ((1, 3), (0, 3)),\n",
        " ((1, 3), (2, 3)),\n",
        " ((2, 3), (2, 2)),\n",
        " ((1, 0), (1, 1))]"
       ]
      }
     ],
     "prompt_number": 11
    },
    {
     "cell_type": "code",
     "collapsed": false,
     "input": [
      "g.neighbors((0,0))"
     ],
     "language": "python",
     "metadata": {},
     "outputs": [
      {
       "metadata": {},
       "output_type": "pyout",
       "prompt_number": 14,
       "text": [
        "[(0, 1), (1, 0)]"
       ]
      }
     ],
     "prompt_number": 14
    },
    {
     "cell_type": "code",
     "collapsed": false,
     "input": [
      "g.node"
     ],
     "language": "python",
     "metadata": {},
     "outputs": [
      {
       "metadata": {},
       "output_type": "pyout",
       "prompt_number": 21,
       "text": [
        "{(0, 0): '1',\n",
        " (0, 1): {},\n",
        " (0, 2): {},\n",
        " (0, 3): {},\n",
        " (1, 0): {},\n",
        " (1, 1): {},\n",
        " (1, 2): {},\n",
        " (1, 3): {},\n",
        " (2, 0): {},\n",
        " (2, 1): {},\n",
        " (2, 2): {},\n",
        " (2, 3): {},\n",
        " (3, 0): {},\n",
        " (3, 1): {},\n",
        " (3, 2): {},\n",
        " (3, 3): {}}"
       ]
      }
     ],
     "prompt_number": 21
    },
    {
     "cell_type": "code",
     "collapsed": false,
     "input": [
      "g.add_node((0,1), value='2')"
     ],
     "language": "python",
     "metadata": {},
     "outputs": [],
     "prompt_number": 28
    },
    {
     "cell_type": "code",
     "collapsed": false,
     "input": [
      "g.node"
     ],
     "language": "python",
     "metadata": {},
     "outputs": [
      {
       "metadata": {},
       "output_type": "pyout",
       "prompt_number": 29,
       "text": [
        "{(0, 0): '1',\n",
        " (0, 1): {'value': '2'},\n",
        " (0, 2): {},\n",
        " (0, 3): {},\n",
        " (1, 0): {},\n",
        " (1, 1): {},\n",
        " (1, 2): {},\n",
        " (1, 3): {},\n",
        " (2, 0): {},\n",
        " (2, 1): {},\n",
        " (2, 2): {},\n",
        " (2, 3): {},\n",
        " (3, 0): {},\n",
        " (3, 1): {},\n",
        " (3, 2): {},\n",
        " (3, 3): {}}"
       ]
      }
     ],
     "prompt_number": 29
    },
    {
     "cell_type": "code",
     "collapsed": false,
     "input": [
      "g.node[0,1]['value']"
     ],
     "language": "python",
     "metadata": {},
     "outputs": [
      {
       "metadata": {},
       "output_type": "pyout",
       "prompt_number": 49,
       "text": [
        "'2'"
       ]
      }
     ],
     "prompt_number": 49
    },
    {
     "cell_type": "code",
     "collapsed": false,
     "input": [
      "g2 = nx.convert_node_labels_to_integers(nx.grid_2d_graph(4,4))"
     ],
     "language": "python",
     "metadata": {},
     "outputs": [],
     "prompt_number": 24
    },
    {
     "cell_type": "code",
     "collapsed": false,
     "input": [
      "nx.write_adjlist(g2, sys.stdout)"
     ],
     "language": "python",
     "metadata": {},
     "outputs": [
      {
       "output_type": "stream",
       "stream": "stdout",
       "text": [
        "#-c -f c:\\Users\\dan\\.ipython\\profile_default\\security\\kernel-9184da4c-3f5b-44ca-8111-68e5548daeb9.json --IPKernelApp.parent_appname='ipython-notebook' --profile-dir c:\\Users\\dan\\.ipython\\profile_default --interrupt=884 --parent=888\n",
        "# GMT Thu Oct 10 15:14:59 2013\n",
        "# (grid_2d_graph)_with_int_labels\n",
        "0 8 3 15\n",
        "1 8 10 12 15\n",
        "2 12 4 6\n",
        "3 13\n",
        "4 11\n",
        "5 9 6\n",
        "6 7\n",
        "7 9 12 15\n",
        "8 14\n",
        "9 13\n",
        "10 11 14\n",
        "11 12\n",
        "12\n",
        "13 15\n",
        "14\n",
        "15\n"
       ]
      }
     ],
     "prompt_number": 25
    },
    {
     "cell_type": "code",
     "collapsed": false,
     "input": [
      "for v, n in enumerate(sorted(g)):\n",
      "    g.add_node(n, value=str(v))"
     ],
     "language": "python",
     "metadata": {},
     "outputs": [],
     "prompt_number": 54
    },
    {
     "cell_type": "code",
     "collapsed": false,
     "input": [
      "g.node"
     ],
     "language": "python",
     "metadata": {},
     "outputs": [
      {
       "metadata": {},
       "output_type": "pyout",
       "prompt_number": 55,
       "text": [
        "{(0, 0): {'value': '0'},\n",
        " (0, 1): {'value': '1'},\n",
        " (0, 2): {'value': '2'},\n",
        " (0, 3): {'value': '3'},\n",
        " (1, 0): {'value': '4'},\n",
        " (1, 1): {'value': '5'},\n",
        " (1, 2): {'value': '6'},\n",
        " (1, 3): {'value': '7'},\n",
        " (2, 0): {'value': '8'},\n",
        " (2, 1): {'value': '9'},\n",
        " (2, 2): {'value': '10'},\n",
        " (2, 3): {'value': '11'},\n",
        " (3, 0): {'value': '12'},\n",
        " (3, 1): {'value': '13'},\n",
        " (3, 2): {'value': '14'},\n",
        " (3, 3): {'value': '15'}}"
       ]
      }
     ],
     "prompt_number": 55
    },
    {
     "cell_type": "code",
     "collapsed": false,
     "input": [
      "g.neighbors((0,1))"
     ],
     "language": "python",
     "metadata": {},
     "outputs": []
    }
   ],
   "metadata": {}
  }
 ]
}